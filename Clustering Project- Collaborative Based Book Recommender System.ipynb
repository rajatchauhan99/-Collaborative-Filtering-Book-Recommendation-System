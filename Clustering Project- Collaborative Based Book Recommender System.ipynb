{
 "cells": [
  {
   "cell_type": "markdown",
   "id": "fa386449",
   "metadata": {},
   "source": [
    "## Recommendation systems \n",
    "\n",
    "These are algorithms and techniques designed to provide personalized suggestions or recommendations to users. These systems are widely used in various online platforms to enhance user experiences and help users discover relevant content, products, or services. There are several types of recommendation systems, including:\n",
    "\n",
    "\n",
    "\n",
    "### Content-Based Filtering:\n",
    "\n",
    "This approach recommends items similar to those a user has shown interest in, based on the characteristics of the items and the user's profile. It doesn't rely on user-user or item-item similarity.\n",
    "\n",
    "### Collaborative Filtering:\n",
    "\n",
    "User-Based Collaborative Filtering: This method recommends items to a user based on the preferences of users who are similar to them.\n",
    "\n",
    "Item-Based Collaborative Filtering: This method recommends items based on their similarity to items the user has already interacted with.\n",
    "\n",
    "### Hybrid Recommender Systems:\n",
    "\n",
    "These systems combine multiple recommendation techniques to provide more accurate and diverse recommendations. For example, combining collaborative and content-based filtering."
   ]
  },
  {
   "cell_type": "markdown",
   "id": "04d25d49",
   "metadata": {},
   "source": [
    "- We will go for Collaborative Filtering based approach here"
   ]
  },
  {
   "cell_type": "markdown",
   "id": "2e090f70",
   "metadata": {},
   "source": [
    "# Importing Libraries and Dataset"
   ]
  },
  {
   "cell_type": "code",
   "execution_count": 1,
   "id": "da15e7d3",
   "metadata": {},
   "outputs": [],
   "source": [
    "import pandas as pd\n",
    "import numpy as np"
   ]
  },
  {
   "cell_type": "markdown",
   "id": "d57a405f",
   "metadata": {},
   "source": [
    "### 1. Books"
   ]
  },
  {
   "cell_type": "code",
   "execution_count": 4,
   "id": "10010d78",
   "metadata": {},
   "outputs": [
    {
     "data": {
      "text/html": [
       "<div>\n",
       "<style scoped>\n",
       "    .dataframe tbody tr th:only-of-type {\n",
       "        vertical-align: middle;\n",
       "    }\n",
       "\n",
       "    .dataframe tbody tr th {\n",
       "        vertical-align: top;\n",
       "    }\n",
       "\n",
       "    .dataframe thead th {\n",
       "        text-align: right;\n",
       "    }\n",
       "</style>\n",
       "<table border=\"1\" class=\"dataframe\">\n",
       "  <thead>\n",
       "    <tr style=\"text-align: right;\">\n",
       "      <th></th>\n",
       "      <th>ISBN</th>\n",
       "      <th>Book-Title</th>\n",
       "      <th>Book-Author</th>\n",
       "      <th>Year-Of-Publication</th>\n",
       "      <th>Publisher</th>\n",
       "      <th>Image-URL-S</th>\n",
       "      <th>Image-URL-M</th>\n",
       "      <th>Image-URL-L</th>\n",
       "    </tr>\n",
       "  </thead>\n",
       "  <tbody>\n",
       "    <tr>\n",
       "      <th>0</th>\n",
       "      <td>0195153448</td>\n",
       "      <td>Classical Mythology</td>\n",
       "      <td>Mark P. O. Morford</td>\n",
       "      <td>2002</td>\n",
       "      <td>Oxford University Press</td>\n",
       "      <td>http://images.amazon.com/images/P/0195153448.0...</td>\n",
       "      <td>http://images.amazon.com/images/P/0195153448.0...</td>\n",
       "      <td>http://images.amazon.com/images/P/0195153448.0...</td>\n",
       "    </tr>\n",
       "    <tr>\n",
       "      <th>1</th>\n",
       "      <td>0002005018</td>\n",
       "      <td>Clara Callan</td>\n",
       "      <td>Richard Bruce Wright</td>\n",
       "      <td>2001</td>\n",
       "      <td>HarperFlamingo Canada</td>\n",
       "      <td>http://images.amazon.com/images/P/0002005018.0...</td>\n",
       "      <td>http://images.amazon.com/images/P/0002005018.0...</td>\n",
       "      <td>http://images.amazon.com/images/P/0002005018.0...</td>\n",
       "    </tr>\n",
       "    <tr>\n",
       "      <th>2</th>\n",
       "      <td>0060973129</td>\n",
       "      <td>Decision in Normandy</td>\n",
       "      <td>Carlo D'Este</td>\n",
       "      <td>1991</td>\n",
       "      <td>HarperPerennial</td>\n",
       "      <td>http://images.amazon.com/images/P/0060973129.0...</td>\n",
       "      <td>http://images.amazon.com/images/P/0060973129.0...</td>\n",
       "      <td>http://images.amazon.com/images/P/0060973129.0...</td>\n",
       "    </tr>\n",
       "    <tr>\n",
       "      <th>3</th>\n",
       "      <td>0374157065</td>\n",
       "      <td>Flu: The Story of the Great Influenza Pandemic...</td>\n",
       "      <td>Gina Bari Kolata</td>\n",
       "      <td>1999</td>\n",
       "      <td>Farrar Straus Giroux</td>\n",
       "      <td>http://images.amazon.com/images/P/0374157065.0...</td>\n",
       "      <td>http://images.amazon.com/images/P/0374157065.0...</td>\n",
       "      <td>http://images.amazon.com/images/P/0374157065.0...</td>\n",
       "    </tr>\n",
       "    <tr>\n",
       "      <th>4</th>\n",
       "      <td>0393045218</td>\n",
       "      <td>The Mummies of Urumchi</td>\n",
       "      <td>E. J. W. Barber</td>\n",
       "      <td>1999</td>\n",
       "      <td>W. W. Norton &amp; Company</td>\n",
       "      <td>http://images.amazon.com/images/P/0393045218.0...</td>\n",
       "      <td>http://images.amazon.com/images/P/0393045218.0...</td>\n",
       "      <td>http://images.amazon.com/images/P/0393045218.0...</td>\n",
       "    </tr>\n",
       "  </tbody>\n",
       "</table>\n",
       "</div>"
      ],
      "text/plain": [
       "         ISBN                                         Book-Title  \\\n",
       "0  0195153448                                Classical Mythology   \n",
       "1  0002005018                                       Clara Callan   \n",
       "2  0060973129                               Decision in Normandy   \n",
       "3  0374157065  Flu: The Story of the Great Influenza Pandemic...   \n",
       "4  0393045218                             The Mummies of Urumchi   \n",
       "\n",
       "            Book-Author  Year-Of-Publication                Publisher  \\\n",
       "0    Mark P. O. Morford                 2002  Oxford University Press   \n",
       "1  Richard Bruce Wright                 2001    HarperFlamingo Canada   \n",
       "2          Carlo D'Este                 1991          HarperPerennial   \n",
       "3      Gina Bari Kolata                 1999     Farrar Straus Giroux   \n",
       "4       E. J. W. Barber                 1999   W. W. Norton & Company   \n",
       "\n",
       "                                         Image-URL-S  \\\n",
       "0  http://images.amazon.com/images/P/0195153448.0...   \n",
       "1  http://images.amazon.com/images/P/0002005018.0...   \n",
       "2  http://images.amazon.com/images/P/0060973129.0...   \n",
       "3  http://images.amazon.com/images/P/0374157065.0...   \n",
       "4  http://images.amazon.com/images/P/0393045218.0...   \n",
       "\n",
       "                                         Image-URL-M  \\\n",
       "0  http://images.amazon.com/images/P/0195153448.0...   \n",
       "1  http://images.amazon.com/images/P/0002005018.0...   \n",
       "2  http://images.amazon.com/images/P/0060973129.0...   \n",
       "3  http://images.amazon.com/images/P/0374157065.0...   \n",
       "4  http://images.amazon.com/images/P/0393045218.0...   \n",
       "\n",
       "                                         Image-URL-L  \n",
       "0  http://images.amazon.com/images/P/0195153448.0...  \n",
       "1  http://images.amazon.com/images/P/0002005018.0...  \n",
       "2  http://images.amazon.com/images/P/0060973129.0...  \n",
       "3  http://images.amazon.com/images/P/0374157065.0...  \n",
       "4  http://images.amazon.com/images/P/0393045218.0...  "
      ]
     },
     "execution_count": 4,
     "metadata": {},
     "output_type": "execute_result"
    }
   ],
   "source": [
    "books = pd.read_csv(\"BX_Books.csv\",\n",
    "                   sep = \";\", encoding= \"latin-1\")\n",
    "books.head()"
   ]
  },
  {
   "cell_type": "code",
   "execution_count": 5,
   "id": "78b72e0b",
   "metadata": {},
   "outputs": [
    {
     "data": {
      "text/plain": [
       "(271379, 8)"
      ]
     },
     "execution_count": 5,
     "metadata": {},
     "output_type": "execute_result"
    }
   ],
   "source": [
    "books.shape"
   ]
  },
  {
   "cell_type": "code",
   "execution_count": 6,
   "id": "e0778478",
   "metadata": {},
   "outputs": [
    {
     "data": {
      "text/plain": [
       "Index(['ISBN', 'Book-Title', 'Book-Author', 'Year-Of-Publication', 'Publisher',\n",
       "       'Image-URL-S', 'Image-URL-M', 'Image-URL-L'],\n",
       "      dtype='object')"
      ]
     },
     "execution_count": 6,
     "metadata": {},
     "output_type": "execute_result"
    }
   ],
   "source": [
    "books.columns"
   ]
  },
  {
   "cell_type": "code",
   "execution_count": 7,
   "id": "0eec1a56",
   "metadata": {},
   "outputs": [
    {
     "data": {
      "text/html": [
       "<div>\n",
       "<style scoped>\n",
       "    .dataframe tbody tr th:only-of-type {\n",
       "        vertical-align: middle;\n",
       "    }\n",
       "\n",
       "    .dataframe tbody tr th {\n",
       "        vertical-align: top;\n",
       "    }\n",
       "\n",
       "    .dataframe thead th {\n",
       "        text-align: right;\n",
       "    }\n",
       "</style>\n",
       "<table border=\"1\" class=\"dataframe\">\n",
       "  <thead>\n",
       "    <tr style=\"text-align: right;\">\n",
       "      <th></th>\n",
       "      <th>ISBN</th>\n",
       "      <th>Book-Title</th>\n",
       "      <th>Book-Author</th>\n",
       "      <th>Year-Of-Publication</th>\n",
       "      <th>Publisher</th>\n",
       "    </tr>\n",
       "  </thead>\n",
       "  <tbody>\n",
       "    <tr>\n",
       "      <th>0</th>\n",
       "      <td>0195153448</td>\n",
       "      <td>Classical Mythology</td>\n",
       "      <td>Mark P. O. Morford</td>\n",
       "      <td>2002</td>\n",
       "      <td>Oxford University Press</td>\n",
       "    </tr>\n",
       "    <tr>\n",
       "      <th>1</th>\n",
       "      <td>0002005018</td>\n",
       "      <td>Clara Callan</td>\n",
       "      <td>Richard Bruce Wright</td>\n",
       "      <td>2001</td>\n",
       "      <td>HarperFlamingo Canada</td>\n",
       "    </tr>\n",
       "    <tr>\n",
       "      <th>2</th>\n",
       "      <td>0060973129</td>\n",
       "      <td>Decision in Normandy</td>\n",
       "      <td>Carlo D'Este</td>\n",
       "      <td>1991</td>\n",
       "      <td>HarperPerennial</td>\n",
       "    </tr>\n",
       "    <tr>\n",
       "      <th>3</th>\n",
       "      <td>0374157065</td>\n",
       "      <td>Flu: The Story of the Great Influenza Pandemic...</td>\n",
       "      <td>Gina Bari Kolata</td>\n",
       "      <td>1999</td>\n",
       "      <td>Farrar Straus Giroux</td>\n",
       "    </tr>\n",
       "    <tr>\n",
       "      <th>4</th>\n",
       "      <td>0393045218</td>\n",
       "      <td>The Mummies of Urumchi</td>\n",
       "      <td>E. J. W. Barber</td>\n",
       "      <td>1999</td>\n",
       "      <td>W. W. Norton &amp; Company</td>\n",
       "    </tr>\n",
       "  </tbody>\n",
       "</table>\n",
       "</div>"
      ],
      "text/plain": [
       "         ISBN                                         Book-Title  \\\n",
       "0  0195153448                                Classical Mythology   \n",
       "1  0002005018                                       Clara Callan   \n",
       "2  0060973129                               Decision in Normandy   \n",
       "3  0374157065  Flu: The Story of the Great Influenza Pandemic...   \n",
       "4  0393045218                             The Mummies of Urumchi   \n",
       "\n",
       "            Book-Author  Year-Of-Publication                Publisher  \n",
       "0    Mark P. O. Morford                 2002  Oxford University Press  \n",
       "1  Richard Bruce Wright                 2001    HarperFlamingo Canada  \n",
       "2          Carlo D'Este                 1991          HarperPerennial  \n",
       "3      Gina Bari Kolata                 1999     Farrar Straus Giroux  \n",
       "4       E. J. W. Barber                 1999   W. W. Norton & Company  "
      ]
     },
     "execution_count": 7,
     "metadata": {},
     "output_type": "execute_result"
    }
   ],
   "source": [
    "books = books[[\"ISBN\", \"Book-Title\",'Book-Author', 'Year-Of-Publication', 'Publisher' ]]\n",
    "books.head()"
   ]
  },
  {
   "cell_type": "code",
   "execution_count": 8,
   "id": "859735f4",
   "metadata": {},
   "outputs": [
    {
     "data": {
      "text/html": [
       "<div>\n",
       "<style scoped>\n",
       "    .dataframe tbody tr th:only-of-type {\n",
       "        vertical-align: middle;\n",
       "    }\n",
       "\n",
       "    .dataframe tbody tr th {\n",
       "        vertical-align: top;\n",
       "    }\n",
       "\n",
       "    .dataframe thead th {\n",
       "        text-align: right;\n",
       "    }\n",
       "</style>\n",
       "<table border=\"1\" class=\"dataframe\">\n",
       "  <thead>\n",
       "    <tr style=\"text-align: right;\">\n",
       "      <th></th>\n",
       "      <th>ISBN</th>\n",
       "      <th>title</th>\n",
       "      <th>author</th>\n",
       "      <th>year</th>\n",
       "      <th>publisher</th>\n",
       "    </tr>\n",
       "  </thead>\n",
       "  <tbody>\n",
       "    <tr>\n",
       "      <th>0</th>\n",
       "      <td>0195153448</td>\n",
       "      <td>Classical Mythology</td>\n",
       "      <td>Mark P. O. Morford</td>\n",
       "      <td>2002</td>\n",
       "      <td>Oxford University Press</td>\n",
       "    </tr>\n",
       "    <tr>\n",
       "      <th>1</th>\n",
       "      <td>0002005018</td>\n",
       "      <td>Clara Callan</td>\n",
       "      <td>Richard Bruce Wright</td>\n",
       "      <td>2001</td>\n",
       "      <td>HarperFlamingo Canada</td>\n",
       "    </tr>\n",
       "    <tr>\n",
       "      <th>2</th>\n",
       "      <td>0060973129</td>\n",
       "      <td>Decision in Normandy</td>\n",
       "      <td>Carlo D'Este</td>\n",
       "      <td>1991</td>\n",
       "      <td>HarperPerennial</td>\n",
       "    </tr>\n",
       "    <tr>\n",
       "      <th>3</th>\n",
       "      <td>0374157065</td>\n",
       "      <td>Flu: The Story of the Great Influenza Pandemic...</td>\n",
       "      <td>Gina Bari Kolata</td>\n",
       "      <td>1999</td>\n",
       "      <td>Farrar Straus Giroux</td>\n",
       "    </tr>\n",
       "    <tr>\n",
       "      <th>4</th>\n",
       "      <td>0393045218</td>\n",
       "      <td>The Mummies of Urumchi</td>\n",
       "      <td>E. J. W. Barber</td>\n",
       "      <td>1999</td>\n",
       "      <td>W. W. Norton &amp; Company</td>\n",
       "    </tr>\n",
       "  </tbody>\n",
       "</table>\n",
       "</div>"
      ],
      "text/plain": [
       "         ISBN                                              title  \\\n",
       "0  0195153448                                Classical Mythology   \n",
       "1  0002005018                                       Clara Callan   \n",
       "2  0060973129                               Decision in Normandy   \n",
       "3  0374157065  Flu: The Story of the Great Influenza Pandemic...   \n",
       "4  0393045218                             The Mummies of Urumchi   \n",
       "\n",
       "                 author  year                publisher  \n",
       "0    Mark P. O. Morford  2002  Oxford University Press  \n",
       "1  Richard Bruce Wright  2001    HarperFlamingo Canada  \n",
       "2          Carlo D'Este  1991          HarperPerennial  \n",
       "3      Gina Bari Kolata  1999     Farrar Straus Giroux  \n",
       "4       E. J. W. Barber  1999   W. W. Norton & Company  "
      ]
     },
     "execution_count": 8,
     "metadata": {},
     "output_type": "execute_result"
    }
   ],
   "source": [
    "books.rename(columns = {\"Book-Title\": \"title\", \n",
    "                        \"Book-Author\": \"author\", \n",
    "                        'Year-Of-Publication' : \"year\", \n",
    "                        'Publisher' : \"publisher\"},\n",
    "            inplace = True)\n",
    "books.head()"
   ]
  },
  {
   "cell_type": "markdown",
   "id": "c3ace8fc",
   "metadata": {},
   "source": [
    "### 2. Users"
   ]
  },
  {
   "cell_type": "code",
   "execution_count": null,
   "id": "27d888e1",
   "metadata": {},
   "outputs": [],
   "source": [
    "users = pd.read_csv(\"BX-Users.csv\",\n",
    "                   sep = \";\", error_bad_lines = False, encoding= \"latin-1\")\n",
    "users.head()"
   ]
  },
  {
   "cell_type": "code",
   "execution_count": null,
   "id": "e8e99469",
   "metadata": {},
   "outputs": [],
   "source": [
    "users.shape"
   ]
  },
  {
   "cell_type": "code",
   "execution_count": null,
   "id": "ee26d876",
   "metadata": {},
   "outputs": [],
   "source": [
    "users.rename(columns = {\"User-ID\" : \"user_id\", \"Location\": \"location\", \"Age\" : \"age\"}, inplace= True)\n",
    "users.head()"
   ]
  },
  {
   "cell_type": "markdown",
   "id": "01958e7b",
   "metadata": {},
   "source": [
    "### 3. Ratings"
   ]
  },
  {
   "cell_type": "code",
   "execution_count": null,
   "id": "92398ab4",
   "metadata": {},
   "outputs": [],
   "source": [
    "ratings = pd.read_csv(\"BX-Book-Ratings.csv\",\n",
    "                   sep = \";\", error_bad_lines = False, encoding= \"latin-1\")\n",
    "ratings.head()"
   ]
  },
  {
   "cell_type": "code",
   "execution_count": null,
   "id": "4ccbae8a",
   "metadata": {},
   "outputs": [],
   "source": [
    "ratings.rename(columns = {\"User-ID\" : \"user_id\", \"Book-Rating\" : \"rating\"}, inplace= True)\n",
    "ratings.head()"
   ]
  },
  {
   "cell_type": "markdown",
   "id": "15a93525",
   "metadata": {},
   "source": [
    "Let us see the amount of data we have, how many records we have here:"
   ]
  },
  {
   "cell_type": "code",
   "execution_count": null,
   "id": "86168e73",
   "metadata": {},
   "outputs": [],
   "source": [
    "books.shape"
   ]
  },
  {
   "cell_type": "code",
   "execution_count": null,
   "id": "d9215fa5",
   "metadata": {},
   "outputs": [],
   "source": [
    "users.shape"
   ]
  },
  {
   "cell_type": "code",
   "execution_count": null,
   "id": "65022e70",
   "metadata": {},
   "outputs": [],
   "source": [
    "ratings.shape"
   ]
  },
  {
   "cell_type": "markdown",
   "id": "fae48e2c",
   "metadata": {},
   "source": [
    "## Setting approach"
   ]
  },
  {
   "cell_type": "markdown",
   "id": "df1c41a1",
   "metadata": {},
   "source": [
    "We need to use collaborative filtering and give user recommendations based on preferences of users similar to them."
   ]
  },
  {
   "cell_type": "markdown",
   "id": "73b492ab",
   "metadata": {},
   "source": [
    "We will suggest that book to you which you have not read but you might like it because other similar user like it."
   ]
  },
  {
   "cell_type": "markdown",
   "id": "852617f1",
   "metadata": {},
   "source": [
    "We will consider ratings of those users who have read lot of books, so that it would be a good estimate. (Knowledgable user)"
   ]
  },
  {
   "cell_type": "markdown",
   "id": "f97dadec",
   "metadata": {},
   "source": [
    "We will create a matrix with users as columns and books as values."
   ]
  },
  {
   "cell_type": "markdown",
   "id": "97805349",
   "metadata": {},
   "source": [
    "We will use these constraints:\n",
    "    \n",
    "    1. We will pick Books which have atleast 50 ratings (so that we can rely on ratings.)\n",
    "    2. We will consider users which have given atleast 200 ratings. (knowledgable user)"
   ]
  },
  {
   "cell_type": "markdown",
   "id": "1b88d977",
   "metadata": {},
   "source": [
    "### 1. Picking Users"
   ]
  },
  {
   "cell_type": "code",
   "execution_count": null,
   "id": "cf77fe4b",
   "metadata": {},
   "outputs": [],
   "source": [
    "ratings.head(2)"
   ]
  },
  {
   "cell_type": "code",
   "execution_count": null,
   "id": "82e3f3ef",
   "metadata": {},
   "outputs": [],
   "source": [
    "ratings[\"rating\"].value_counts()"
   ]
  },
  {
   "cell_type": "markdown",
   "id": "3d349e40",
   "metadata": {},
   "source": [
    "Ok So, we have rating from 0 to 10"
   ]
  },
  {
   "cell_type": "code",
   "execution_count": null,
   "id": "ac01386e",
   "metadata": {},
   "outputs": [],
   "source": [
    "ratings[\"user_id\"].value_counts()"
   ]
  },
  {
   "cell_type": "markdown",
   "id": "e4458111",
   "metadata": {},
   "source": [
    "Total unique users who have done some rating are about 1 lacs"
   ]
  },
  {
   "cell_type": "markdown",
   "id": "7cad6aae",
   "metadata": {},
   "source": [
    "We need to select those users who have done ratings more than 200 books."
   ]
  },
  {
   "cell_type": "code",
   "execution_count": null,
   "id": "17169e88",
   "metadata": {},
   "outputs": [],
   "source": [
    "ratings[\"user_id\"].value_counts() > 200"
   ]
  },
  {
   "cell_type": "code",
   "execution_count": null,
   "id": "edf112da",
   "metadata": {},
   "outputs": [],
   "source": [
    "x = ratings[\"user_id\"].value_counts() > 200"
   ]
  },
  {
   "cell_type": "code",
   "execution_count": null,
   "id": "4c927bbc",
   "metadata": {},
   "outputs": [],
   "source": [
    "x[x]"
   ]
  },
  {
   "cell_type": "code",
   "execution_count": null,
   "id": "301dd77a",
   "metadata": {},
   "outputs": [],
   "source": [
    "x[x].shape"
   ]
  },
  {
   "cell_type": "markdown",
   "id": "8f83f60c",
   "metadata": {},
   "source": [
    "We have only 899 users like that.\n",
    "\n",
    "These are the great people, who's intelligence will make our model."
   ]
  },
  {
   "cell_type": "markdown",
   "id": "798ba319",
   "metadata": {},
   "source": [
    "Let us take user_id of these users"
   ]
  },
  {
   "cell_type": "code",
   "execution_count": null,
   "id": "d9c27c0a",
   "metadata": {},
   "outputs": [],
   "source": [
    "y = x[x].index\n",
    "y"
   ]
  },
  {
   "cell_type": "code",
   "execution_count": null,
   "id": "c8ba5481",
   "metadata": {},
   "outputs": [],
   "source": [
    "y[0]"
   ]
  },
  {
   "cell_type": "code",
   "execution_count": null,
   "id": "e0b75ac7",
   "metadata": {},
   "outputs": [],
   "source": [
    "ratings[\"user_id\"].isin(y)"
   ]
  },
  {
   "cell_type": "code",
   "execution_count": null,
   "id": "062d4ad3",
   "metadata": {},
   "outputs": [],
   "source": [
    "ratings = ratings[ratings[\"user_id\"].isin(y)]\n",
    "ratings"
   ]
  },
  {
   "cell_type": "markdown",
   "id": "e050647e",
   "metadata": {},
   "source": [
    "So, we are left with 5 lakh something ratings by these 899 users."
   ]
  },
  {
   "cell_type": "markdown",
   "id": "5863a2a4",
   "metadata": {},
   "source": [
    "### Joining books table to ratings table now"
   ]
  },
  {
   "cell_type": "code",
   "execution_count": null,
   "id": "5ea2294c",
   "metadata": {},
   "outputs": [],
   "source": [
    "books.head()"
   ]
  },
  {
   "cell_type": "markdown",
   "id": "c4d38eec",
   "metadata": {},
   "source": [
    "Based on ISBN, we can join these two tables"
   ]
  },
  {
   "cell_type": "code",
   "execution_count": null,
   "id": "27ef877c",
   "metadata": {},
   "outputs": [],
   "source": [
    "ratings_with_books = ratings.merge(books, on = \"ISBN\")\n",
    "ratings_with_books"
   ]
  },
  {
   "cell_type": "markdown",
   "id": "8a31bce3",
   "metadata": {},
   "source": [
    "As this is a inner join, means there are some books which do not have ratings and vice versa"
   ]
  },
  {
   "cell_type": "markdown",
   "id": "66e74f6c",
   "metadata": {},
   "source": [
    "## 2. Picking books"
   ]
  },
  {
   "cell_type": "markdown",
   "id": "e31013a4",
   "metadata": {},
   "source": [
    "Books must have atleast 50 ratings given:"
   ]
  },
  {
   "cell_type": "code",
   "execution_count": null,
   "id": "87eac0a8",
   "metadata": {},
   "outputs": [],
   "source": [
    "ratings_with_books.groupby(\"title\")[\"rating\"].count().reset_index()"
   ]
  },
  {
   "cell_type": "code",
   "execution_count": null,
   "id": "4ef510a4",
   "metadata": {},
   "outputs": [],
   "source": [
    "number_rating = ratings_with_books.groupby(\"title\")[\"rating\"].count().reset_index()"
   ]
  },
  {
   "cell_type": "code",
   "execution_count": null,
   "id": "91575b74",
   "metadata": {},
   "outputs": [],
   "source": [
    "number_rating"
   ]
  },
  {
   "cell_type": "code",
   "execution_count": null,
   "id": "8ccf99a7",
   "metadata": {},
   "outputs": [],
   "source": [
    "number_rating.rename(columns = {\"rating\" : \"number of ratings\"}, inplace= True)"
   ]
  },
  {
   "cell_type": "code",
   "execution_count": null,
   "id": "dfaf6174",
   "metadata": {},
   "outputs": [],
   "source": [
    "number_rating"
   ]
  },
  {
   "cell_type": "markdown",
   "id": "9853994f",
   "metadata": {},
   "source": [
    "Joining this table to the ratings with books"
   ]
  },
  {
   "cell_type": "code",
   "execution_count": null,
   "id": "d4816f5f",
   "metadata": {},
   "outputs": [],
   "source": [
    "final_rating = ratings_with_books.merge(number_rating, on = \"title\")\n",
    "final_rating"
   ]
  },
  {
   "cell_type": "code",
   "execution_count": null,
   "id": "6c5cf42b",
   "metadata": {},
   "outputs": [],
   "source": [
    "final_rating = final_rating[final_rating[\"number of ratings\"] >= 50]\n",
    "final_rating"
   ]
  },
  {
   "cell_type": "markdown",
   "id": "c66265ea",
   "metadata": {},
   "source": [
    "These are the users who have done more than 200 ratings and books which have atleast 50 ratings given."
   ]
  },
  {
   "cell_type": "markdown",
   "id": "e8c2b099",
   "metadata": {},
   "source": [
    "### Removing duplicates"
   ]
  },
  {
   "cell_type": "code",
   "execution_count": null,
   "id": "1be3c6b1",
   "metadata": {},
   "outputs": [],
   "source": [
    "final_rating.duplicated([\"user_id\", \"title\"]).sum()"
   ]
  },
  {
   "cell_type": "markdown",
   "id": "89708a46",
   "metadata": {},
   "source": [
    "So, same user have done multiple times reviews of the same book which we need to remove from our records.\n",
    "\n",
    "We will just consider the first review."
   ]
  },
  {
   "cell_type": "code",
   "execution_count": null,
   "id": "9ce2cf28",
   "metadata": {},
   "outputs": [],
   "source": [
    "final_rating.drop_duplicates([\"user_id\", \"title\"])"
   ]
  },
  {
   "cell_type": "code",
   "execution_count": null,
   "id": "93a1965c",
   "metadata": {},
   "outputs": [],
   "source": [
    "final_rating.drop_duplicates([\"user_id\", \"title\"], inplace= True)"
   ]
  },
  {
   "cell_type": "markdown",
   "id": "b4f1fbc9",
   "metadata": {},
   "source": [
    "Let us see how many unique books we are having here."
   ]
  },
  {
   "cell_type": "code",
   "execution_count": null,
   "id": "b57e89d5",
   "metadata": {},
   "outputs": [],
   "source": [
    "len(final_rating[\"title\"].unique())"
   ]
  },
  {
   "cell_type": "markdown",
   "id": "af14171c",
   "metadata": {},
   "source": [
    "So, we are just left with 742 books only to work on."
   ]
  },
  {
   "cell_type": "markdown",
   "id": "81701f12",
   "metadata": {},
   "source": [
    "## Making a pivot"
   ]
  },
  {
   "cell_type": "markdown",
   "id": "fecce3bd",
   "metadata": {},
   "source": [
    "I want to see users in columns and their rating of books in the rows and the corresponding rating as the value of the cell."
   ]
  },
  {
   "cell_type": "code",
   "execution_count": null,
   "id": "35d9cfe5",
   "metadata": {},
   "outputs": [],
   "source": [
    "book_pivot = final_rating.pivot_table(columns = \"user_id\", index = \"title\", values = \"rating\")\n",
    "book_pivot"
   ]
  },
  {
   "cell_type": "markdown",
   "id": "bdd53a61",
   "metadata": {},
   "source": [
    "So, we are just left with 742 books and 888 users to play with."
   ]
  },
  {
   "cell_type": "markdown",
   "id": "c2ae34e2",
   "metadata": {},
   "source": [
    "We have the problem of NaN values here"
   ]
  },
  {
   "cell_type": "code",
   "execution_count": null,
   "id": "3bc1065f",
   "metadata": {},
   "outputs": [],
   "source": [
    "book_pivot.fillna(0, inplace= True)"
   ]
  },
  {
   "cell_type": "code",
   "execution_count": null,
   "id": "19681f95",
   "metadata": {},
   "outputs": [],
   "source": [
    "book_pivot"
   ]
  },
  {
   "cell_type": "markdown",
   "id": "306c2d56",
   "metadata": {},
   "source": [
    "## Transformation"
   ]
  },
  {
   "cell_type": "markdown",
   "id": "b16565b2",
   "metadata": {},
   "source": [
    "We will use sklearn nearest neighbors clustering algorithm which works on finding out distance between objects and making them fit into K clusters."
   ]
  },
  {
   "cell_type": "markdown",
   "id": "2b256d5d",
   "metadata": {},
   "source": [
    "The pivot table that we have is having very sparse data means lot of zero, we can go for some optimization using CSR library."
   ]
  },
  {
   "cell_type": "markdown",
   "id": "4ed7a7c2",
   "metadata": {},
   "source": [
    "A Compressed Sparse Row (CSR) matrix is a popular data structure used for efficient storage and manipulation of sparse matrices. \n",
    "\n",
    "Sparse matrices are matrices in which most of the elements are zero. \n",
    "\n",
    "CSR is a memory-efficient way to represent sparse matrices in computer memory."
   ]
  },
  {
   "cell_type": "code",
   "execution_count": null,
   "id": "fa18bb31",
   "metadata": {},
   "outputs": [],
   "source": [
    "import scipy.sparse as sp"
   ]
  },
  {
   "cell_type": "code",
   "execution_count": null,
   "id": "938de2d5",
   "metadata": {},
   "outputs": [],
   "source": [
    "csr_matrix = sp.csr_matrix(book_pivot)\n",
    "csr_matrix"
   ]
  },
  {
   "cell_type": "markdown",
   "id": "6180563d",
   "metadata": {},
   "source": [
    "# Importing ML Clustering Algorithm"
   ]
  },
  {
   "cell_type": "code",
   "execution_count": null,
   "id": "a868d2b5",
   "metadata": {},
   "outputs": [],
   "source": [
    "from sklearn.neighbors import NearestNeighbors"
   ]
  },
  {
   "cell_type": "markdown",
   "id": "984e56cf",
   "metadata": {},
   "source": [
    "Creating an instance of the NearestNeighbors class from a machine learning library like Scikit-Learn. \n",
    "\n",
    "The NearestNeighbors class is used for unsupervised machine learning tasks, particularly for finding nearest neighbors in a dataset."
   ]
  },
  {
   "cell_type": "code",
   "execution_count": null,
   "id": "1dfc1f7d",
   "metadata": {},
   "outputs": [],
   "source": [
    "model = NearestNeighbors(algorithm=\"brute\")"
   ]
  },
  {
   "cell_type": "markdown",
   "id": "711956df",
   "metadata": {},
   "source": [
    "The algorithm parameter is set to \"brute,\" which means that this instance of NearestNeighbors will use a brute-force search to find the nearest neighbors. In a brute-force search, the algorithm directly computes the distances between data points to find the nearest neighbors, which can be computationally expensive for large datasets."
   ]
  },
  {
   "cell_type": "code",
   "execution_count": null,
   "id": "dd92484c",
   "metadata": {},
   "outputs": [],
   "source": [
    "model.fit(csr_matrix)"
   ]
  },
  {
   "cell_type": "code",
   "execution_count": null,
   "id": "42d70133",
   "metadata": {},
   "outputs": [],
   "source": [
    "model.n_neighbors"
   ]
  },
  {
   "cell_type": "markdown",
   "id": "6f096054",
   "metadata": {},
   "source": [
    "So, it have chosen 5 nearest neighbors by default"
   ]
  },
  {
   "cell_type": "markdown",
   "id": "2e2dae18",
   "metadata": {},
   "source": [
    "Now, the model will tell us the suggestions of the books, by taking a input book and the number of recommendations of books we want"
   ]
  },
  {
   "cell_type": "code",
   "execution_count": null,
   "id": "47a50193",
   "metadata": {},
   "outputs": [],
   "source": [
    "book_pivot"
   ]
  },
  {
   "cell_type": "markdown",
   "id": "c6c6cbc2",
   "metadata": {},
   "source": [
    "iloc is a method in the Pandas library, which is a popular Python library for data manipulation and analysis. It is used for integer-location-based indexing and selection of data in a Pandas DataFrame or Series. iloc allows you to select rows and columns by their integer positions, rather than by labels or boolean conditions."
   ]
  },
  {
   "cell_type": "code",
   "execution_count": null,
   "id": "851d9847",
   "metadata": {},
   "outputs": [],
   "source": [
    "book_pivot.iloc[0,:]"
   ]
  },
  {
   "cell_type": "code",
   "execution_count": null,
   "id": "734016de",
   "metadata": {},
   "outputs": [],
   "source": [
    "book_pivot.index.values"
   ]
  },
  {
   "cell_type": "code",
   "execution_count": null,
   "id": "6dfdaf64",
   "metadata": {},
   "outputs": [],
   "source": [
    "book_pivot.iloc[237,:]"
   ]
  },
  {
   "cell_type": "code",
   "execution_count": null,
   "id": "7eee2156",
   "metadata": {},
   "outputs": [],
   "source": [
    "book_pivot.iloc[237,:].values.reshape(1,-1)"
   ]
  },
  {
   "cell_type": "code",
   "execution_count": null,
   "id": "344ecec8",
   "metadata": {},
   "outputs": [],
   "source": [
    "distances, suggestions = model.kneighbors(book_pivot.iloc[237,:].values.reshape(1,-1), n_neighbors = 6)"
   ]
  },
  {
   "cell_type": "code",
   "execution_count": null,
   "id": "ba384129",
   "metadata": {},
   "outputs": [],
   "source": [
    "distances"
   ]
  },
  {
   "cell_type": "code",
   "execution_count": null,
   "id": "13573d75",
   "metadata": {},
   "outputs": [],
   "source": [
    "suggestions"
   ]
  },
  {
   "cell_type": "markdown",
   "id": "7e57d532",
   "metadata": {},
   "source": [
    "So, the model is able to find out the nearest 5 books in the hyper dimensional space that will be used for recommedndations."
   ]
  },
  {
   "cell_type": "code",
   "execution_count": null,
   "id": "98112915",
   "metadata": {},
   "outputs": [],
   "source": [
    "book_pivot.index[240]"
   ]
  },
  {
   "cell_type": "code",
   "execution_count": null,
   "id": "f8e7fb54",
   "metadata": {},
   "outputs": [],
   "source": [
    "for suggestion in suggestions:\n",
    "    print(book_pivot.index[suggestion])"
   ]
  },
  {
   "cell_type": "markdown",
   "id": "7bb8aa5d",
   "metadata": {},
   "source": [
    "These are all the books that are related to Harry Potter, wow how does it work, \n",
    "\n",
    "Just based on rating of people and based on collaborative filtering we can make very good recommendations."
   ]
  },
  {
   "cell_type": "markdown",
   "id": "deee5a08",
   "metadata": {},
   "source": [
    "## Creating a usable function for this recommender system"
   ]
  },
  {
   "cell_type": "code",
   "execution_count": null,
   "id": "cf462283",
   "metadata": {},
   "outputs": [],
   "source": [
    "book_pivot.index == \"The Cradle Will Fall\""
   ]
  },
  {
   "cell_type": "markdown",
   "id": "a98855fa",
   "metadata": {},
   "source": [
    "But we want the index of it"
   ]
  },
  {
   "cell_type": "code",
   "execution_count": null,
   "id": "9a853adc",
   "metadata": {},
   "outputs": [],
   "source": [
    "np.where(book_pivot.index == \"The Cradle Will Fall\")"
   ]
  },
  {
   "cell_type": "code",
   "execution_count": null,
   "id": "ca1a87e0",
   "metadata": {},
   "outputs": [],
   "source": [
    "np.where(book_pivot.index == \"The Cradle Will Fall\")[0][0]"
   ]
  },
  {
   "cell_type": "code",
   "execution_count": null,
   "id": "7c279df9",
   "metadata": {},
   "outputs": [],
   "source": [
    "def recommed_books(book_name):\n",
    "    book_id = np.where(book_pivot.index == book_name)[0][0]\n",
    "    distances, suggestions = model.kneighbors(book_pivot.iloc[book_id,:].values.reshape(1,-1), n_neighbors = 6)\n",
    "    suggestions_list = []\n",
    "    for index in suggestions:\n",
    "        suggestions_list.append(book_pivot.index[index])\n",
    "    return suggestions_list  "
   ]
  },
  {
   "cell_type": "code",
   "execution_count": null,
   "id": "aa8d1918",
   "metadata": {},
   "outputs": [],
   "source": [
    "recommed_books(\"The Cradle Will Fall\")"
   ]
  },
  {
   "cell_type": "code",
   "execution_count": null,
   "id": "d116412c",
   "metadata": {},
   "outputs": [],
   "source": [
    "recommed_books(\"The Cradle Will Fall\")[0][1:]"
   ]
  },
  {
   "cell_type": "markdown",
   "id": "99d54952",
   "metadata": {},
   "source": [
    "# Saving the requirements as pickle file to deploy this using streamlit application"
   ]
  },
  {
   "cell_type": "code",
   "execution_count": null,
   "id": "73f8e686",
   "metadata": {},
   "outputs": [],
   "source": [
    "book_pivot"
   ]
  },
  {
   "cell_type": "markdown",
   "id": "629c2a5d",
   "metadata": {},
   "source": [
    "We will require book pivot to create the list of books from where user will select the books"
   ]
  },
  {
   "cell_type": "code",
   "execution_count": null,
   "id": "27a2ee75",
   "metadata": {},
   "outputs": [],
   "source": [
    "import pickle"
   ]
  },
  {
   "cell_type": "code",
   "execution_count": null,
   "id": "2574f26a",
   "metadata": {},
   "outputs": [],
   "source": [
    "pickle.dump(book_pivot, open(\"book_pivot.pkl\", \"wb\"))"
   ]
  },
  {
   "cell_type": "markdown",
   "id": "6caa63ac",
   "metadata": {},
   "source": [
    "We will need the model"
   ]
  },
  {
   "cell_type": "code",
   "execution_count": null,
   "id": "3fc9236c",
   "metadata": {},
   "outputs": [],
   "source": [
    "pickle.dump(model, open(\"model.pkl\", \"wb\"))"
   ]
  },
  {
   "cell_type": "markdown",
   "id": "88c6a903",
   "metadata": {},
   "source": [
    "And this function we can use now"
   ]
  },
  {
   "cell_type": "code",
   "execution_count": null,
   "id": "3870f398",
   "metadata": {},
   "outputs": [],
   "source": [
    "def recommed_books(book_name):\n",
    "    book_id = np.where(book_pivot.index == book_name)[0][0]\n",
    "    distances, suggestions = model.kneighbors(book_pivot.iloc[book_id,:].values.reshape(1,-1), n_neighbors = 6)\n",
    "    suggestions_list = []\n",
    "    for index in suggestions:\n",
    "        suggestions_list.append(book_pivot.index[index])\n",
    "    return suggestions_list  "
   ]
  },
  {
   "cell_type": "code",
   "execution_count": null,
   "id": "5ed0a3d2",
   "metadata": {},
   "outputs": [],
   "source": [
    "book_pivot.index.values"
   ]
  },
  {
   "cell_type": "code",
   "execution_count": null,
   "id": "1b56085b",
   "metadata": {},
   "outputs": [],
   "source": []
  }
 ],
 "metadata": {
  "kernelspec": {
   "display_name": "Python 3 (ipykernel)",
   "language": "python",
   "name": "python3"
  },
  "language_info": {
   "codemirror_mode": {
    "name": "ipython",
    "version": 3
   },
   "file_extension": ".py",
   "mimetype": "text/x-python",
   "name": "python",
   "nbconvert_exporter": "python",
   "pygments_lexer": "ipython3",
   "version": "3.9.12"
  }
 },
 "nbformat": 4,
 "nbformat_minor": 5
}
